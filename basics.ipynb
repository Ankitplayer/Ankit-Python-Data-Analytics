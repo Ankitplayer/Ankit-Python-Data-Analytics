{
 "cells": [
  {
   "cell_type": "code",
   "execution_count": 1,
   "metadata": {},
   "outputs": [
    {
     "data": {
      "text/plain": [
       "350403"
      ]
     },
     "execution_count": 1,
     "metadata": {},
     "output_type": "execute_result"
    }
   ],
   "source": [
    "345665 + 4738"
   ]
  },
  {
   "cell_type": "code",
   "execution_count": 2,
   "metadata": {},
   "outputs": [
    {
     "data": {
      "text/plain": [
       "2603"
      ]
     },
     "execution_count": 2,
     "metadata": {},
     "output_type": "execute_result"
    }
   ],
   "source": [
    "3242 - 639"
   ]
  },
  {
   "cell_type": "code",
   "execution_count": 3,
   "metadata": {},
   "outputs": [
    {
     "data": {
      "text/plain": [
       "163902"
      ]
     },
     "execution_count": 3,
     "metadata": {},
     "output_type": "execute_result"
    }
   ],
   "source": [
    "463 * 354"
   ]
  },
  {
   "cell_type": "code",
   "execution_count": 4,
   "metadata": {},
   "outputs": [
    {
     "data": {
      "text/plain": [
       "29"
      ]
     },
     "execution_count": 4,
     "metadata": {},
     "output_type": "execute_result"
    }
   ],
   "source": [
    "1539 // 53"
   ]
  },
  {
   "cell_type": "code",
   "execution_count": 6,
   "metadata": {},
   "outputs": [
    {
     "data": {
      "text/plain": [
       "83453453"
      ]
     },
     "execution_count": 6,
     "metadata": {},
     "output_type": "execute_result"
    }
   ],
   "source": [
    "437 ** 3"
   ]
  },
  {
   "cell_type": "code",
   "execution_count": 7,
   "metadata": {},
   "outputs": [
    {
     "data": {
      "text/plain": [
       "10974.0"
      ]
     },
     "execution_count": 7,
     "metadata": {},
     "output_type": "execute_result"
    }
   ],
   "source": [
    "54870 / 5"
   ]
  },
  {
   "cell_type": "code",
   "execution_count": 8,
   "metadata": {},
   "outputs": [
    {
     "data": {
      "text/plain": [
       "-11394.5"
      ]
     },
     "execution_count": 8,
     "metadata": {},
     "output_type": "execute_result"
    }
   ],
   "source": [
    "538 / 4 - 549 * 21"
   ]
  },
  {
   "cell_type": "code",
   "execution_count": 10,
   "metadata": {},
   "outputs": [],
   "source": [
    "Name = \"ANKIT\"\n",
    "AGE = 25 \n",
    "CAN_VOTE = True"
   ]
  },
  {
   "cell_type": "code",
   "execution_count": 13,
   "metadata": {},
   "outputs": [],
   "source": [
    "a = 10\n",
    "a += 30\n",
    "a -= 10\n"
   ]
  },
  {
   "cell_type": "code",
   "execution_count": 20,
   "metadata": {},
   "outputs": [
    {
     "name": "stdout",
     "output_type": "stream",
     "text": [
      "True\n",
      "False\n",
      "False\n"
     ]
    }
   ],
   "source": [
    "a, b = 10, 31\n",
    "print (a < b)\n",
    "print (a > b)   \n",
    "print (a == b)\n"
   ]
  },
  {
   "cell_type": "markdown",
   "metadata": {},
   "source": [
    "Logical Operators"
   ]
  },
  {
   "cell_type": "code",
   "execution_count": 24,
   "metadata": {},
   "outputs": [],
   "source": [
    "fruits = ['mango', 'apple', 'banana', 'orange']"
   ]
  },
  {
   "cell_type": "code",
   "execution_count": 25,
   "metadata": {},
   "outputs": [
    {
     "data": {
      "text/plain": [
       "False"
      ]
     },
     "execution_count": 25,
     "metadata": {},
     "output_type": "execute_result"
    }
   ],
   "source": [
    "'avacado' in fruits"
   ]
  },
  {
   "cell_type": "code",
   "execution_count": 30,
   "metadata": {},
   "outputs": [
    {
     "name": "stdout",
     "output_type": "stream",
     "text": [
      "amount 215300.0\n",
      "principal 200000\n",
      "rate 1.53\n",
      "time 5\n",
      "simple intrest 15300.0\n"
     ]
    }
   ],
   "source": [
    "p = int (input ('Principal: '))\n",
    "r = float (input ('Rate: '))\n",
    "t = int (input ('Time: '))\n",
    "si = p * r * t / 100\n",
    "print ('amount', si + p)\n",
    "print('principal', p)\n",
    "print('rate', r)\n",
    "print('time', t)\n",
    "print('simple intrest', si)"
   ]
  },
  {
   "cell_type": "code",
   "execution_count": 3,
   "metadata": {},
   "outputs": [
    {
     "name": "stdout",
     "output_type": "stream",
     "text": [
      "Ankit\n",
      "Lucknow\n",
      "Ankit Lucknow\n",
      "Ankit\n",
      "Lucknow\n",
      "Ankit,Lucknow\n",
      "Ankit lives in Lucknow\n"
     ]
    }
   ],
   "source": [
    "name = \"Ankit\"\n",
    "city = \"Lucknow\"\n",
    "print(name)\n",
    "print(city)\n",
    "print(name, city)\n",
    "print(name,city, sep='\\n')\n",
    "print(name, city, sep=',')\n",
    "print(f'{name} lives in {city}')"
   ]
  },
  {
   "cell_type": "markdown",
   "metadata": {},
   "source": [
    "Conditions"
   ]
  },
  {
   "cell_type": "code",
   "execution_count": 4,
   "metadata": {},
   "outputs": [
    {
     "ename": "SyntaxError",
     "evalue": "invalid syntax (1465297612.py, line 1)",
     "output_type": "error",
     "traceback": [
      "\u001b[1;36m  Cell \u001b[1;32mIn[4], line 1\u001b[1;36m\u001b[0m\n\u001b[1;33m    -if\u001b[0m\n\u001b[1;37m     ^\u001b[0m\n\u001b[1;31mSyntaxError\u001b[0m\u001b[1;31m:\u001b[0m invalid syntax\n"
     ]
    }
   ],
   "source": [
    "-if\n",
    "-if else\n",
    "-if elif else\n",
    "-match case\n"
   ]
  },
  {
   "cell_type": "code",
   "execution_count": 10,
   "metadata": {},
   "outputs": [
    {
     "name": "stdout",
     "output_type": "stream",
     "text": [
      "You purchased items for more than $200\n",
      "you get a 10% discount\n",
      "total 360.0\n"
     ]
    }
   ],
   "source": [
    "qty = 2\n",
    "price = 200.00\n",
    "total = qty * price\n",
    "if total > 200:\n",
    "    print('You purchased items for more than $200')\n",
    "    print('you get a 10% discount')\n",
    "    total = total * 0.9 # 90% of the total\n",
    "print('total',total)\n",
    "\n"
   ]
  },
  {
   "cell_type": "code",
   "execution_count": 20,
   "metadata": {},
   "outputs": [
    {
     "name": "stdout",
     "output_type": "stream",
     "text": [
      "odd num 5\n"
     ]
    }
   ],
   "source": [
    "number = int(input('enter a numbers:'))\n",
    "if number % 2 == 0:\n",
    "    print(f'even num {number}')\n",
    "else:\n",
    "    print(f'odd num {number}')"
   ]
  },
  {
   "cell_type": "code",
   "execution_count": 16,
   "metadata": {},
   "outputs": [
    {
     "name": "stdout",
     "output_type": "stream",
     "text": [
      "percentage 94.83333333333334%\n",
      "😊Grade A+\n"
     ]
    }
   ],
   "source": [
    "marks = int(input('enter total marcks you got:'))\n",
    "total = 600\n",
    "pct = marks / total * 100\n",
    "print(f'percentage {pct}%')\n",
    "if pct >= 90:\n",
    "    print('😊Grade A+')\n",
    "elif pct >= 80:\n",
    "    print('Grade B')\n",
    "elif pct > 70:\n",
    "    print('Grade 70')\n",
    "elif pct > 60:\n",
    "    print('Grade C')\n",
    "elif pct > 50:\n",
    "    print('Grade D')\n",
    "else:\n",
    "    print('fail')\n"
   ]
  },
  {
   "cell_type": "code",
   "execution_count": 17,
   "metadata": {},
   "outputs": [
    {
     "name": "stdout",
     "output_type": "stream",
     "text": [
      "what is the capital of Uttrakhand?\n",
      "A. Dehradun\n",
      "B. Lucknow\n",
      "C. Delhi\n",
      "D. Chandighar\n",
      "Correct, aap sahi raha per hai\n"
     ]
    }
   ],
   "source": [
    "print('what is the capital of Uttrakhand?')\n",
    "print('A. Dehradun')\n",
    "print('B. Lucknow')\n",
    "print('C. Delhi')\n",
    "print('D. Chandighar')\n",
    "ans = input('enter option number:')\n",
    "match ans:\n",
    "    case 'A':\n",
    "        print('Correct, aap sahi raha per hai')\n",
    "    case 'B':\n",
    "        print('Wrong answer, Itna galat kese ho skte ho')\n",
    "    case 'C':\n",
    "        print('Wrong answer, Thoda padhai wadai kro')\n",
    "    case 'D':\n",
    "        print('Wrong answer, Aapko bhut mehnat krni padegi')\n",
    "    case _:\n",
    "        print('Invalid option')\n",
    "        "
   ]
  }
 ],
 "metadata": {
  "kernelspec": {
   "display_name": "Python 3",
   "language": "python",
   "name": "python3"
  },
  "language_info": {
   "codemirror_mode": {
    "name": "ipython",
    "version": 3
   },
   "file_extension": ".py",
   "mimetype": "text/x-python",
   "name": "python",
   "nbconvert_exporter": "python",
   "pygments_lexer": "ipython3",
   "version": "3.10.8"
  }
 },
 "nbformat": 4,
 "nbformat_minor": 2
}
