{
 "cells": [
  {
   "cell_type": "markdown",
   "metadata": {},
   "source": [
    "String\n",
    " - create\n",
    " - indexing & access\n",
    " - slicing\n",
    " - most usefull methods\n",
    " - string is immutable\n",
    " - string is iterable (someting that has multiple element and can br looped over)"
   ]
  },
  {
   "cell_type": "code",
   "execution_count": null,
   "metadata": {},
   "outputs": [],
   "source": []
  },
  {
   "cell_type": "code",
   "execution_count": null,
   "metadata": {},
   "outputs": [],
   "source": []
  },
  {
   "cell_type": "code",
   "execution_count": 2,
   "metadata": {},
   "outputs": [],
   "source": [
    "a = 'apple' # single quotes\n",
    "b = \"applejuice\" # doble quotes\n",
    "c = '''this is\n",
    "example''' # triple/multiple quotes"
   ]
  },
  {
   "cell_type": "code",
   "execution_count": 3,
   "metadata": {},
   "outputs": [
    {
     "name": "stdout",
     "output_type": "stream",
     "text": [
      "a\n",
      "p\n",
      "e\n",
      "l\n"
     ]
    }
   ],
   "source": [
    "print(a[0])\n",
    "print(a[1])\n",
    "print(a[-1])\n",
    "print(a[-2])"
   ]
  },
  {
   "cell_type": "code",
   "execution_count": null,
   "metadata": {},
   "outputs": [],
   "source": [
    "slicing\n",
    "`str[start:stop:step]`"
   ]
  },
  {
   "cell_type": "code",
   "execution_count": 15,
   "metadata": {},
   "outputs": [
    {
     "name": "stdout",
     "output_type": "stream",
     "text": [
      "Vijay\n",
      "Deenanath\n",
      "Chauhan\n",
      "Vijay\n",
      "Vijay Deenanath \n",
      "Vijay Deenanath Chauhan\n",
      "VjyDeaah\n",
      "VjyDeaahCahn\n",
      "nahuahC htananeeD yajiV\n",
      "nahua\n"
     ]
    }
   ],
   "source": [
    "name = \"Vijay Deenanath Chauhan\"\n",
    "print(name[0:5])\n",
    "print(name[6:15])\n",
    "print(name[-7:23])\n",
    "print(name[:5])\n",
    "print(name[:-7])\n",
    "print(name[:])\n",
    "print(name[:15:2])\n",
    "print(name[::2])\n",
    "print(name[::-1])\n",
    "print(name[:][::-1][:5])"
   ]
  },
  {
   "cell_type": "code",
   "execution_count": 19,
   "metadata": {},
   "outputs": [
    {
     "data": {
      "text/plain": [
       "'Ankit Kumar'"
      ]
     },
     "execution_count": 19,
     "metadata": {},
     "output_type": "execute_result"
    }
   ],
   "source": [
    "fname = \"Ankit\"\n",
    "lname = \"Kumar\"\n",
    "fname+' ' + lname # concatenation"
   ]
  },
  {
   "cell_type": "code",
   "execution_count": 20,
   "metadata": {},
   "outputs": [
    {
     "data": {
      "text/plain": [
       "'😂😂😂😂😂😂😂😂😂😂'"
      ]
     },
     "execution_count": 20,
     "metadata": {},
     "output_type": "execute_result"
    }
   ],
   "source": [
    "'😂' * 10 # repetition"
   ]
  },
  {
   "cell_type": "markdown",
   "metadata": {},
   "source": [
    "Strings Method"
   ]
  },
  {
   "cell_type": "code",
   "execution_count": 22,
   "metadata": {},
   "outputs": [
    {
     "data": {
      "text/plain": [
       "<function str.capitalize()>"
      ]
     },
     "execution_count": 22,
     "metadata": {},
     "output_type": "execute_result"
    }
   ],
   "source": [
    "a.capitalize"
   ]
  },
  {
   "cell_type": "markdown",
   "metadata": {},
   "source": [
    "Find and Replace"
   ]
  },
  {
   "cell_type": "code",
   "execution_count": 34,
   "metadata": {},
   "outputs": [
    {
     "name": "stdout",
     "output_type": "stream",
     "text": [
      "4\n",
      "-1\n",
      "5\n",
      "21\n",
      "The queen went to the Jungle\n",
      "The King went to the Castle\n"
     ]
    },
    {
     "ename": "ValueError",
     "evalue": "invalid literal for int() with base 10: 'The King went to the Jungle'",
     "output_type": "error",
     "traceback": [
      "\u001b[1;31m---------------------------------------------------------------------------\u001b[0m",
      "\u001b[1;31mValueError\u001b[0m                                Traceback (most recent call last)",
      "Cell \u001b[1;32mIn[34], line 10\u001b[0m\n\u001b[0;32m      8\u001b[0m \u001b[38;5;28mprint\u001b[39m(sentence\u001b[38;5;241m.\u001b[39mreplace(\u001b[38;5;124m'\u001b[39m\u001b[38;5;124mJungle\u001b[39m\u001b[38;5;124m'\u001b[39m, \u001b[38;5;124m'\u001b[39m\u001b[38;5;124mCastle\u001b[39m\u001b[38;5;124m'\u001b[39m))\n\u001b[0;32m      9\u001b[0m sentence2 \u001b[38;5;241m=\u001b[39m sentence\u001b[38;5;241m.\u001b[39mreplace(\u001b[38;5;124m'\u001b[39m\u001b[38;5;124mKing\u001b[39m\u001b[38;5;124m'\u001b[39m,\u001b[38;5;124m'\u001b[39m\u001b[38;5;124mqueen\u001b[39m\u001b[38;5;124m'\u001b[39m)\u001b[38;5;241m.\u001b[39mreplace(\u001b[38;5;124m'\u001b[39m\u001b[38;5;124mJungle\u001b[39m\u001b[38;5;124m'\u001b[39m,\u001b[38;5;124m'\u001b[39m\u001b[38;5;124mcastele\u001b[39m\u001b[38;5;124m'\u001b[39m)\n\u001b[1;32m---> 10\u001b[0m \u001b[38;5;28;43mint\u001b[39;49m\u001b[43m(\u001b[49m\u001b[43msentence\u001b[49m\u001b[43m)\u001b[49m\n",
      "\u001b[1;31mValueError\u001b[0m: invalid literal for int() with base 10: 'The King went to the Jungle'"
     ]
    }
   ],
   "source": [
    "sentence = ('The King went to the Jungle')\n",
    "print(sentence.find('King'))\n",
    "print(sentence.find('Queen'))\n",
    "print(sentence.find('in'))\n",
    "print(sentence.find('Ju'))\n",
    "\n",
    "print(sentence.replace('King', 'queen'))\n",
    "print(sentence.replace('Jungle', 'Castle'))\n",
    "sentence2 = sentence.replace('King','queen').replace('Jungle','castele')\n",
    "int(sentence)"
   ]
  },
  {
   "cell_type": "code",
   "execution_count": null,
   "metadata": {},
   "outputs": [],
   "source": [
    "s3 = 'Blue,Red,Black,White'"
   ]
  },
  {
   "cell_type": "code",
   "execution_count": 38,
   "metadata": {},
   "outputs": [
    {
     "name": "stdout",
     "output_type": "stream",
     "text": [
      "['', 'Twinkle, twinkle, little star,', 'How I wonder what you are!', 'Up above the world so high,', 'Like a diamond in the sky.']\n",
      "['Twinkle,', 'twinkle,', 'little', 'star,', 'How', 'I', 'wonder', 'what', 'you', 'are!', 'Up', 'above', 'the', 'world', 'so', 'high,', 'Like', 'a', 'diamond', 'in', 'the', 'sky.']\n",
      "['\\nTwinkle', ' twinkle', ' little star', '\\nHow I wonder what you are!\\nUp above the world so high', '\\nLike a diamond in the sky.\\n']\n"
     ]
    }
   ],
   "source": [
    "poem = '''\n",
    "Twinkle, twinkle, little star,\n",
    "How I wonder what you are!\n",
    "Up above the world so high,\n",
    "Like a diamond in the sky.\n",
    "'''\n",
    "print(poem.splitlines())\n",
    "print(poem.split())\n",
    "print(poem.split(','))"
   ]
  },
  {
   "cell_type": "code",
   "execution_count": 41,
   "metadata": {},
   "outputs": [
    {
     "name": "stdout",
     "output_type": "stream",
     "text": [
      "C: home address document filetext\n",
      "C:/home/address/document/filetext\n"
     ]
    }
   ],
   "source": [
    "path = ['C:','home','address','document','filetext']\n",
    "print(\" \".join(path))\n",
    "print(\"/\".join(path))"
   ]
  },
  {
   "cell_type": "markdown",
   "metadata": {},
   "source": [
    "count,, startswith and endwith\n",
    "\n"
   ]
  },
  {
   "cell_type": "code",
   "execution_count": 1,
   "metadata": {},
   "outputs": [
    {
     "data": {
      "text/plain": [
       "1"
      ]
     },
     "execution_count": 1,
     "metadata": {},
     "output_type": "execute_result"
    }
   ],
   "source": [
    "story = 'once thhere was a king. He was very powerful. He had a beautiful queen.'\n",
    "story.count('queen')"
   ]
  },
  {
   "cell_type": "code",
   "execution_count": 7,
   "metadata": {},
   "outputs": [
    {
     "name": "stdout",
     "output_type": "stream",
     "text": [
      "['16894853301.png', 'azuredatastudio-windows-user-setup-1.46.0.exe', 'ChromeSetup (1).exe', 'ChromeSetup (2).exe', 'ChromeSetup.exe', 'desktop.ini', 'download (1).jpg', 'download (2).jpg', 'download (3).jpg', 'download (4).jpg', 'download (5).jpg', 'download (6).jpg', 'download.jpg', 'download.png', 'DP-2022-DEC-MERN-10-00-MTF-master', 'DP-2022-DEC-MERN-10-00-MTF-master.zip', 'DP-2023-JAN-MERN-03-30-MTWF-master', 'DP-2023-JAN-MERN-03-30-MTWF-master (1)', 'DP-2023-JAN-MERN-03-30-MTWF-master (1).zip', 'gif.gif', 'Git-2.39.1-64-bit.exe', 'Git-2.41.0.3-64-bit.exe', 'GitHubDesktopSetup-x64.exe', 'images (1).jpg', 'images (2).jpg', 'images (3).jpg', 'images (4).jpg', 'images (5).jpg', 'images (6).jpg', 'images (7).jpg', 'images.jpg', 'ITI PICTURES', 'jetbrains-toolbox-2.1.3.18901.exe', 'logo.png', 'Miniconda3-py310_22.11.1-1-Windows-x86_64.exe', 'mississippi.sql', 'Music - Shortcut.lnk', 'mycollection', 'mycollection.zip', 'mysql-8.1.0-winx64.msi', 'node-v18.13.0-x64.msi', 'patanjali facewash.mp4', 'Patanjali-Rose-Facewash-1-e1515642744426.jpg', 'pattern.png', 'Postman-win64-Setup.exe', 'practice_diabetes (1).sql', 'practice_houseprices (1).sql', 'sakila-db.zip', 'sales.sql', 'sanay python', 'sanjay file new', 'ss.py', 'sss.ipynb', 'tt.py', 'VC_redist.x64.exe', 'VSCodeUserSetup-x64-1.74.3.exe']\n"
     ]
    }
   ],
   "source": [
    "import os\n",
    "\n",
    "content = os.listdir('C:/users/win-10/Downloads')\n",
    "print(content)"
   ]
  },
  {
   "cell_type": "code",
   "execution_count": 12,
   "metadata": {},
   "outputs": [
    {
     "name": "stdout",
     "output_type": "stream",
     "text": [
      "azuredatastudio-windows-user-setup-1.46.0.exe\n",
      "ChromeSetup (1).exe\n",
      "ChromeSetup (2).exe\n",
      "ChromeSetup.exe\n",
      "Git-2.39.1-64-bit.exe\n",
      "Git-2.41.0.3-64-bit.exe\n",
      "GitHubDesktopSetup-x64.exe\n",
      "jetbrains-toolbox-2.1.3.18901.exe\n",
      "Miniconda3-py310_22.11.1-1-Windows-x86_64.exe\n",
      "Postman-win64-Setup.exe\n",
      "VC_redist.x64.exe\n",
      "VSCodeUserSetup-x64-1.74.3.exe\n"
     ]
    }
   ],
   "source": [
    "for item in content:\n",
    "    if item.endswith('.exe'):\n",
    "        print(item)"
   ]
  },
  {
   "cell_type": "code",
   "execution_count": 14,
   "metadata": {},
   "outputs": [
    {
     "name": "stdout",
     "output_type": "stream",
     "text": [
      "azuredatastudio-windows-user-setup-1.46.0.exe\n"
     ]
    }
   ],
   "source": [
    "for item in content:\n",
    "    if item.startswith('a'):\n",
    "        print(item)"
   ]
  },
  {
   "cell_type": "code",
   "execution_count": 16,
   "metadata": {},
   "outputs": [
    {
     "name": "stdout",
     "output_type": "stream",
     "text": [
      "True\n",
      "False\n"
     ]
    }
   ],
   "source": [
    "word = 'Excellent'\n",
    "print(word.startswith('Ex'))\n",
    "print(word.startswith('En'))"
   ]
  },
  {
   "cell_type": "code",
   "execution_count": null,
   "metadata": {},
   "outputs": [],
   "source": []
  }
 ],
 "metadata": {
  "kernelspec": {
   "display_name": "Python 3",
   "language": "python",
   "name": "python3"
  },
  "language_info": {
   "codemirror_mode": {
    "name": "ipython",
    "version": 3
   },
   "file_extension": ".py",
   "mimetype": "text/x-python",
   "name": "python",
   "nbconvert_exporter": "python",
   "pygments_lexer": "ipython3",
   "version": "3.10.8"
  }
 },
 "nbformat": 4,
 "nbformat_minor": 2
}
