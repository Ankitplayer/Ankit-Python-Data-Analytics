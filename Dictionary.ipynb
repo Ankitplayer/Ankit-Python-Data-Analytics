{
 "cells": [
  {
   "cell_type": "code",
   "execution_count": 2,
   "metadata": {},
   "outputs": [
    {
     "name": "stdout",
     "output_type": "stream",
     "text": [
      "['The Way of Kings', 2009, 'Brandon Sanderson', 1000, 'Fantasy Novel', 10.0, 23094]\n"
     ]
    }
   ],
   "source": [
    "data =['The Way of Kings', 2009,\n",
    "       'Brandon Sanderson', 1000,\n",
    "       'Fantasy Novel', 10.0, 23094]\n",
    "print(data)"
   ]
  },
  {
   "cell_type": "code",
   "execution_count": 3,
   "metadata": {},
   "outputs": [
    {
     "name": "stdout",
     "output_type": "stream",
     "text": [
      "{'title': 'The Way of Kings', 'year': 2009, 'author': 'Brandon Sanderson', 'price': 1000, 'rating': 10.0, 'genre': 23094}\n"
     ]
    }
   ],
   "source": [
    "data = {\n",
    "    'title': 'The Way of Kings',\n",
    "    'year': 2009,\n",
    "    'author': 'Brandon Sanderson',\n",
    "    'price': 1000,\n",
    "    'rating': 10.0,\n",
    "    'genre': 23094\n",
    "}\n",
    "print(data)"
   ]
  },
  {
   "cell_type": "code",
   "execution_count": 5,
   "metadata": {},
   "outputs": [
    {
     "name": "stdout",
     "output_type": "stream",
     "text": [
      "The Way of Kings\n",
      "Brandon Sanderson\n"
     ]
    }
   ],
   "source": [
    "print(data['title'])\n",
    "print(data['author'])"
   ]
  },
  {
   "cell_type": "code",
   "execution_count": 8,
   "metadata": {},
   "outputs": [
    {
     "name": "stdout",
     "output_type": "stream",
     "text": [
      "None\n",
      "1000\n"
     ]
    }
   ],
   "source": [
    "print(data.get('pages'))\n",
    "print(data.get('price'))"
   ]
  },
  {
   "cell_type": "code",
   "execution_count": 9,
   "metadata": {},
   "outputs": [
    {
     "data": {
      "text/plain": [
       "dict_items([('title', 'The Way of Kings'), ('year', 2009), ('author', 'Brandon Sanderson'), ('price', 1000), ('rating', 10.0), ('genre', 23094)])"
      ]
     },
     "execution_count": 9,
     "metadata": {},
     "output_type": "execute_result"
    }
   ],
   "source": [
    "data.items()"
   ]
  },
  {
   "cell_type": "code",
   "execution_count": 10,
   "metadata": {},
   "outputs": [
    {
     "name": "stdout",
     "output_type": "stream",
     "text": [
      "{'Top Gun': '10', 'Good Morning': '9', 'Hello Word': '100', 'Rating': '10', 'Price': '1.45'}\n"
     ]
    }
   ],
   "source": [
    "movie = {}\n",
    "for i in range(5):\n",
    "    key = input('Enter the key:')\n",
    "    value = input('Enter the value:')\n",
    "    movie[key] = value\n",
    "print(movie)"
   ]
  },
  {
   "cell_type": "code",
   "execution_count": null,
   "metadata": {},
   "outputs": [],
   "source": []
  }
 ],
 "metadata": {
  "kernelspec": {
   "display_name": "Python 3",
   "language": "python",
   "name": "python3"
  },
  "language_info": {
   "codemirror_mode": {
    "name": "ipython",
    "version": 3
   },
   "file_extension": ".py",
   "mimetype": "text/x-python",
   "name": "python",
   "nbconvert_exporter": "python",
   "pygments_lexer": "ipython3",
   "version": "3.10.8"
  }
 },
 "nbformat": 4,
 "nbformat_minor": 2
}
